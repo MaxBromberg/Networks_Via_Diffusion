{
 "cells": [
  {
   "cell_type": "code",
   "execution_count": 1,
   "metadata": {
    "colab": {},
    "colab_type": "code",
    "id": "c7AScAip6bkE"
   },
   "outputs": [],
   "source": [
    "import os\n",
    "import pandas as pd\n",
    "import matplotlib.pyplot as plt\n",
    "import networkx as nx\n",
    "import numpy as np\n",
    "import itertools\n",
    "%matplotlib inline"
   ]
  },
  {
   "cell_type": "code",
   "execution_count": 2,
   "metadata": {
    "colab": {},
    "colab_type": "code",
    "id": "MOUk2BqA6mXh"
   },
   "outputs": [],
   "source": [
    "DATA_DIR = \"./\"\n",
    "DATA_FILENAMES = {\"bluetooth\": \"bt_symmetric.csv\",\n",
    "                  \"calls\": \"calls.csv\",\n",
    "                  \"sms\": \"sms.csv\",\n",
    "                  \"facebook_friends\": \"fb_friends.csv\",\n",
    "                  \"genders\": \"genders.csv\"}"
   ]
  },
  {
   "cell_type": "code",
   "execution_count": 3,
   "metadata": {
    "colab": {},
    "colab_type": "code",
    "id": "ozelxeRzALo6"
   },
   "outputs": [],
   "source": [
    "def LoadData(data_filename, data_dir):\n",
    "  '''Loads data from |data_dir|/|data_filename|. Returns Pandas dataframe.'''\n",
    "  return pd.read_csv(os.path.join(data_dir, data_filename))  "
   ]
  },
  {
   "cell_type": "code",
   "execution_count": 4,
   "metadata": {
    "colab": {
     "base_uri": "https://localhost:8080/",
     "height": 680
    },
    "colab_type": "code",
    "id": "aJhry9w082Wq",
    "outputId": "ea9a5979-b8e2-477a-980e-dd2c91fcae6d"
   },
   "outputs": [
    {
     "ename": "FileNotFoundError",
     "evalue": "[Errno 2] File b'./bt_symmetric.csv' does not exist: b'./bt_symmetric.csv'",
     "output_type": "error",
     "traceback": [
      "\u001b[1;31m---------------------------------------------------------------------------\u001b[0m",
      "\u001b[1;31mFileNotFoundError\u001b[0m                         Traceback (most recent call last)",
      "\u001b[1;32m<ipython-input-4-d74ae8ee1adb>\u001b[0m in \u001b[0;36m<module>\u001b[1;34m\u001b[0m\n\u001b[1;32m----> 1\u001b[1;33m \u001b[0mdf_bt\u001b[0m \u001b[1;33m=\u001b[0m \u001b[0mLoadData\u001b[0m\u001b[1;33m(\u001b[0m\u001b[0mDATA_FILENAMES\u001b[0m\u001b[1;33m[\u001b[0m\u001b[1;34m\"bluetooth\"\u001b[0m\u001b[1;33m]\u001b[0m\u001b[1;33m,\u001b[0m \u001b[0mDATA_DIR\u001b[0m\u001b[1;33m)\u001b[0m\u001b[1;33m\u001b[0m\u001b[1;33m\u001b[0m\u001b[0m\n\u001b[0m\u001b[0;32m      2\u001b[0m \u001b[0mprint\u001b[0m\u001b[1;33m(\u001b[0m\u001b[1;34m\"bluetooth\\n\"\u001b[0m\u001b[1;33m,\u001b[0m \u001b[0mdf_bt\u001b[0m\u001b[1;33m.\u001b[0m\u001b[0mhead\u001b[0m\u001b[1;33m(\u001b[0m\u001b[1;33m)\u001b[0m\u001b[1;33m)\u001b[0m\u001b[1;33m\u001b[0m\u001b[1;33m\u001b[0m\u001b[0m\n\u001b[0;32m      3\u001b[0m \u001b[1;33m\u001b[0m\u001b[0m\n\u001b[0;32m      4\u001b[0m \u001b[0mdf_calls\u001b[0m \u001b[1;33m=\u001b[0m \u001b[0mLoadData\u001b[0m\u001b[1;33m(\u001b[0m\u001b[0mDATA_FILENAMES\u001b[0m\u001b[1;33m[\u001b[0m\u001b[1;34m\"calls\"\u001b[0m\u001b[1;33m]\u001b[0m\u001b[1;33m,\u001b[0m \u001b[0mDATA_DIR\u001b[0m\u001b[1;33m)\u001b[0m\u001b[1;33m\u001b[0m\u001b[1;33m\u001b[0m\u001b[0m\n\u001b[0;32m      5\u001b[0m \u001b[0mprint\u001b[0m\u001b[1;33m(\u001b[0m\u001b[1;34m\"\\ncalls\\n\"\u001b[0m\u001b[1;33m,\u001b[0m \u001b[0mdf_calls\u001b[0m\u001b[1;33m.\u001b[0m\u001b[0mhead\u001b[0m\u001b[1;33m(\u001b[0m\u001b[1;33m)\u001b[0m\u001b[1;33m)\u001b[0m\u001b[1;33m\u001b[0m\u001b[1;33m\u001b[0m\u001b[0m\n",
      "\u001b[1;32m<ipython-input-3-3334498f9b3e>\u001b[0m in \u001b[0;36mLoadData\u001b[1;34m(data_filename, data_dir)\u001b[0m\n\u001b[0;32m      1\u001b[0m \u001b[1;32mdef\u001b[0m \u001b[0mLoadData\u001b[0m\u001b[1;33m(\u001b[0m\u001b[0mdata_filename\u001b[0m\u001b[1;33m,\u001b[0m \u001b[0mdata_dir\u001b[0m\u001b[1;33m)\u001b[0m\u001b[1;33m:\u001b[0m\u001b[1;33m\u001b[0m\u001b[1;33m\u001b[0m\u001b[0m\n\u001b[0;32m      2\u001b[0m   \u001b[1;34m'''Loads data from |data_dir|/|data_filename|. Returns Pandas dataframe.'''\u001b[0m\u001b[1;33m\u001b[0m\u001b[1;33m\u001b[0m\u001b[0m\n\u001b[1;32m----> 3\u001b[1;33m   \u001b[1;32mreturn\u001b[0m \u001b[0mpd\u001b[0m\u001b[1;33m.\u001b[0m\u001b[0mread_csv\u001b[0m\u001b[1;33m(\u001b[0m\u001b[0mos\u001b[0m\u001b[1;33m.\u001b[0m\u001b[0mpath\u001b[0m\u001b[1;33m.\u001b[0m\u001b[0mjoin\u001b[0m\u001b[1;33m(\u001b[0m\u001b[0mdata_dir\u001b[0m\u001b[1;33m,\u001b[0m \u001b[0mdata_filename\u001b[0m\u001b[1;33m)\u001b[0m\u001b[1;33m)\u001b[0m\u001b[1;33m\u001b[0m\u001b[1;33m\u001b[0m\u001b[0m\n\u001b[0m",
      "\u001b[1;32m~\\Anaconda3\\lib\\site-packages\\pandas\\io\\parsers.py\u001b[0m in \u001b[0;36mparser_f\u001b[1;34m(filepath_or_buffer, sep, delimiter, header, names, index_col, usecols, squeeze, prefix, mangle_dupe_cols, dtype, engine, converters, true_values, false_values, skipinitialspace, skiprows, skipfooter, nrows, na_values, keep_default_na, na_filter, verbose, skip_blank_lines, parse_dates, infer_datetime_format, keep_date_col, date_parser, dayfirst, cache_dates, iterator, chunksize, compression, thousands, decimal, lineterminator, quotechar, quoting, doublequote, escapechar, comment, encoding, dialect, error_bad_lines, warn_bad_lines, delim_whitespace, low_memory, memory_map, float_precision)\u001b[0m\n\u001b[0;32m    683\u001b[0m         )\n\u001b[0;32m    684\u001b[0m \u001b[1;33m\u001b[0m\u001b[0m\n\u001b[1;32m--> 685\u001b[1;33m         \u001b[1;32mreturn\u001b[0m \u001b[0m_read\u001b[0m\u001b[1;33m(\u001b[0m\u001b[0mfilepath_or_buffer\u001b[0m\u001b[1;33m,\u001b[0m \u001b[0mkwds\u001b[0m\u001b[1;33m)\u001b[0m\u001b[1;33m\u001b[0m\u001b[1;33m\u001b[0m\u001b[0m\n\u001b[0m\u001b[0;32m    686\u001b[0m \u001b[1;33m\u001b[0m\u001b[0m\n\u001b[0;32m    687\u001b[0m     \u001b[0mparser_f\u001b[0m\u001b[1;33m.\u001b[0m\u001b[0m__name__\u001b[0m \u001b[1;33m=\u001b[0m \u001b[0mname\u001b[0m\u001b[1;33m\u001b[0m\u001b[1;33m\u001b[0m\u001b[0m\n",
      "\u001b[1;32m~\\Anaconda3\\lib\\site-packages\\pandas\\io\\parsers.py\u001b[0m in \u001b[0;36m_read\u001b[1;34m(filepath_or_buffer, kwds)\u001b[0m\n\u001b[0;32m    455\u001b[0m \u001b[1;33m\u001b[0m\u001b[0m\n\u001b[0;32m    456\u001b[0m     \u001b[1;31m# Create the parser.\u001b[0m\u001b[1;33m\u001b[0m\u001b[1;33m\u001b[0m\u001b[1;33m\u001b[0m\u001b[0m\n\u001b[1;32m--> 457\u001b[1;33m     \u001b[0mparser\u001b[0m \u001b[1;33m=\u001b[0m \u001b[0mTextFileReader\u001b[0m\u001b[1;33m(\u001b[0m\u001b[0mfp_or_buf\u001b[0m\u001b[1;33m,\u001b[0m \u001b[1;33m**\u001b[0m\u001b[0mkwds\u001b[0m\u001b[1;33m)\u001b[0m\u001b[1;33m\u001b[0m\u001b[1;33m\u001b[0m\u001b[0m\n\u001b[0m\u001b[0;32m    458\u001b[0m \u001b[1;33m\u001b[0m\u001b[0m\n\u001b[0;32m    459\u001b[0m     \u001b[1;32mif\u001b[0m \u001b[0mchunksize\u001b[0m \u001b[1;32mor\u001b[0m \u001b[0miterator\u001b[0m\u001b[1;33m:\u001b[0m\u001b[1;33m\u001b[0m\u001b[1;33m\u001b[0m\u001b[0m\n",
      "\u001b[1;32m~\\Anaconda3\\lib\\site-packages\\pandas\\io\\parsers.py\u001b[0m in \u001b[0;36m__init__\u001b[1;34m(self, f, engine, **kwds)\u001b[0m\n\u001b[0;32m    893\u001b[0m             \u001b[0mself\u001b[0m\u001b[1;33m.\u001b[0m\u001b[0moptions\u001b[0m\u001b[1;33m[\u001b[0m\u001b[1;34m\"has_index_names\"\u001b[0m\u001b[1;33m]\u001b[0m \u001b[1;33m=\u001b[0m \u001b[0mkwds\u001b[0m\u001b[1;33m[\u001b[0m\u001b[1;34m\"has_index_names\"\u001b[0m\u001b[1;33m]\u001b[0m\u001b[1;33m\u001b[0m\u001b[1;33m\u001b[0m\u001b[0m\n\u001b[0;32m    894\u001b[0m \u001b[1;33m\u001b[0m\u001b[0m\n\u001b[1;32m--> 895\u001b[1;33m         \u001b[0mself\u001b[0m\u001b[1;33m.\u001b[0m\u001b[0m_make_engine\u001b[0m\u001b[1;33m(\u001b[0m\u001b[0mself\u001b[0m\u001b[1;33m.\u001b[0m\u001b[0mengine\u001b[0m\u001b[1;33m)\u001b[0m\u001b[1;33m\u001b[0m\u001b[1;33m\u001b[0m\u001b[0m\n\u001b[0m\u001b[0;32m    896\u001b[0m \u001b[1;33m\u001b[0m\u001b[0m\n\u001b[0;32m    897\u001b[0m     \u001b[1;32mdef\u001b[0m \u001b[0mclose\u001b[0m\u001b[1;33m(\u001b[0m\u001b[0mself\u001b[0m\u001b[1;33m)\u001b[0m\u001b[1;33m:\u001b[0m\u001b[1;33m\u001b[0m\u001b[1;33m\u001b[0m\u001b[0m\n",
      "\u001b[1;32m~\\Anaconda3\\lib\\site-packages\\pandas\\io\\parsers.py\u001b[0m in \u001b[0;36m_make_engine\u001b[1;34m(self, engine)\u001b[0m\n\u001b[0;32m   1133\u001b[0m     \u001b[1;32mdef\u001b[0m \u001b[0m_make_engine\u001b[0m\u001b[1;33m(\u001b[0m\u001b[0mself\u001b[0m\u001b[1;33m,\u001b[0m \u001b[0mengine\u001b[0m\u001b[1;33m=\u001b[0m\u001b[1;34m\"c\"\u001b[0m\u001b[1;33m)\u001b[0m\u001b[1;33m:\u001b[0m\u001b[1;33m\u001b[0m\u001b[1;33m\u001b[0m\u001b[0m\n\u001b[0;32m   1134\u001b[0m         \u001b[1;32mif\u001b[0m \u001b[0mengine\u001b[0m \u001b[1;33m==\u001b[0m \u001b[1;34m\"c\"\u001b[0m\u001b[1;33m:\u001b[0m\u001b[1;33m\u001b[0m\u001b[1;33m\u001b[0m\u001b[0m\n\u001b[1;32m-> 1135\u001b[1;33m             \u001b[0mself\u001b[0m\u001b[1;33m.\u001b[0m\u001b[0m_engine\u001b[0m \u001b[1;33m=\u001b[0m \u001b[0mCParserWrapper\u001b[0m\u001b[1;33m(\u001b[0m\u001b[0mself\u001b[0m\u001b[1;33m.\u001b[0m\u001b[0mf\u001b[0m\u001b[1;33m,\u001b[0m \u001b[1;33m**\u001b[0m\u001b[0mself\u001b[0m\u001b[1;33m.\u001b[0m\u001b[0moptions\u001b[0m\u001b[1;33m)\u001b[0m\u001b[1;33m\u001b[0m\u001b[1;33m\u001b[0m\u001b[0m\n\u001b[0m\u001b[0;32m   1136\u001b[0m         \u001b[1;32melse\u001b[0m\u001b[1;33m:\u001b[0m\u001b[1;33m\u001b[0m\u001b[1;33m\u001b[0m\u001b[0m\n\u001b[0;32m   1137\u001b[0m             \u001b[1;32mif\u001b[0m \u001b[0mengine\u001b[0m \u001b[1;33m==\u001b[0m \u001b[1;34m\"python\"\u001b[0m\u001b[1;33m:\u001b[0m\u001b[1;33m\u001b[0m\u001b[1;33m\u001b[0m\u001b[0m\n",
      "\u001b[1;32m~\\Anaconda3\\lib\\site-packages\\pandas\\io\\parsers.py\u001b[0m in \u001b[0;36m__init__\u001b[1;34m(self, src, **kwds)\u001b[0m\n\u001b[0;32m   1915\u001b[0m         \u001b[0mkwds\u001b[0m\u001b[1;33m[\u001b[0m\u001b[1;34m\"usecols\"\u001b[0m\u001b[1;33m]\u001b[0m \u001b[1;33m=\u001b[0m \u001b[0mself\u001b[0m\u001b[1;33m.\u001b[0m\u001b[0musecols\u001b[0m\u001b[1;33m\u001b[0m\u001b[1;33m\u001b[0m\u001b[0m\n\u001b[0;32m   1916\u001b[0m \u001b[1;33m\u001b[0m\u001b[0m\n\u001b[1;32m-> 1917\u001b[1;33m         \u001b[0mself\u001b[0m\u001b[1;33m.\u001b[0m\u001b[0m_reader\u001b[0m \u001b[1;33m=\u001b[0m \u001b[0mparsers\u001b[0m\u001b[1;33m.\u001b[0m\u001b[0mTextReader\u001b[0m\u001b[1;33m(\u001b[0m\u001b[0msrc\u001b[0m\u001b[1;33m,\u001b[0m \u001b[1;33m**\u001b[0m\u001b[0mkwds\u001b[0m\u001b[1;33m)\u001b[0m\u001b[1;33m\u001b[0m\u001b[1;33m\u001b[0m\u001b[0m\n\u001b[0m\u001b[0;32m   1918\u001b[0m         \u001b[0mself\u001b[0m\u001b[1;33m.\u001b[0m\u001b[0munnamed_cols\u001b[0m \u001b[1;33m=\u001b[0m \u001b[0mself\u001b[0m\u001b[1;33m.\u001b[0m\u001b[0m_reader\u001b[0m\u001b[1;33m.\u001b[0m\u001b[0munnamed_cols\u001b[0m\u001b[1;33m\u001b[0m\u001b[1;33m\u001b[0m\u001b[0m\n\u001b[0;32m   1919\u001b[0m \u001b[1;33m\u001b[0m\u001b[0m\n",
      "\u001b[1;32mpandas\\_libs\\parsers.pyx\u001b[0m in \u001b[0;36mpandas._libs.parsers.TextReader.__cinit__\u001b[1;34m()\u001b[0m\n",
      "\u001b[1;32mpandas\\_libs\\parsers.pyx\u001b[0m in \u001b[0;36mpandas._libs.parsers.TextReader._setup_parser_source\u001b[1;34m()\u001b[0m\n",
      "\u001b[1;31mFileNotFoundError\u001b[0m: [Errno 2] File b'./bt_symmetric.csv' does not exist: b'./bt_symmetric.csv'"
     ]
    }
   ],
   "source": [
    "df_bt = LoadData(DATA_FILENAMES[\"bluetooth\"], DATA_DIR)\n",
    "print(\"bluetooth\\n\", df_bt.head())\n",
    "\n",
    "df_calls = LoadData(DATA_FILENAMES[\"calls\"], DATA_DIR)\n",
    "print(\"\\ncalls\\n\", df_calls.head())\n",
    "\n",
    "df_sms = LoadData(DATA_FILENAMES[\"sms\"], DATA_DIR)\n",
    "print(\"\\nsms\\n\", df_sms.head())\n",
    "\n",
    "df_facebook_friends = LoadData(DATA_FILENAMES[\"facebook_friends\"], DATA_DIR)\n",
    "print(\"\\nfacebook friends\\n\", df_facebook_friends.head())\n",
    "\n",
    "df_genders = LoadData(DATA_FILENAMES[\"genders\"], DATA_DIR)\n",
    "print(\"\\ngenders\\n\", df_genders.head())"
   ]
  },
  {
   "cell_type": "code",
   "execution_count": 5,
   "metadata": {
    "colab": {
     "base_uri": "https://localhost:8080/",
     "height": 719
    },
    "colab_type": "code",
    "id": "XNXSLnDaFT0b",
    "outputId": "06099c3f-97eb-4a06-ee9e-dba107d93378"
   },
   "outputs": [
    {
     "ename": "NameError",
     "evalue": "name 'df_bt' is not defined",
     "output_type": "error",
     "traceback": [
      "\u001b[1;31m---------------------------------------------------------------------------\u001b[0m",
      "\u001b[1;31mNameError\u001b[0m                                 Traceback (most recent call last)",
      "\u001b[1;32m<ipython-input-5-6af08e210027>\u001b[0m in \u001b[0;36m<module>\u001b[1;34m\u001b[0m\n\u001b[0;32m     41\u001b[0m \u001b[1;33m\u001b[0m\u001b[0m\n\u001b[0;32m     42\u001b[0m \u001b[1;33m\u001b[0m\u001b[0m\n\u001b[1;32m---> 43\u001b[1;33m \u001b[0mVisualizeBluetoothNetwork\u001b[0m\u001b[1;33m(\u001b[0m\u001b[0mdf_bt\u001b[0m\u001b[1;33m,\u001b[0m \u001b[1;36m0\u001b[0m\u001b[1;33m)\u001b[0m\u001b[1;33m\u001b[0m\u001b[1;33m\u001b[0m\u001b[0m\n\u001b[0m\u001b[0;32m     44\u001b[0m \u001b[0mVisualizeBluetoothNetwork\u001b[0m\u001b[1;33m(\u001b[0m\u001b[0mdf_bt\u001b[0m\u001b[1;33m,\u001b[0m \u001b[1;36m300\u001b[0m\u001b[1;33m)\u001b[0m\u001b[1;33m\u001b[0m\u001b[1;33m\u001b[0m\u001b[0m\n\u001b[0;32m     45\u001b[0m \u001b[0mVisualizeBluetoothNetwork\u001b[0m\u001b[1;33m(\u001b[0m\u001b[0mdf_bt\u001b[0m\u001b[1;33m,\u001b[0m \u001b[1;36m600\u001b[0m\u001b[1;33m)\u001b[0m\u001b[1;33m\u001b[0m\u001b[1;33m\u001b[0m\u001b[0m\n",
      "\u001b[1;31mNameError\u001b[0m: name 'df_bt' is not defined"
     ]
    }
   ],
   "source": [
    "def VisualizeBluetoothNetwork(df_bt, timestamp):\n",
    "  \"\"\" Plots each connected component in |df_bt| network at |timestamp|.\"\"\"\n",
    "  # NetworkX graph to plot the results.\n",
    "  G = nx.Graph()\n",
    "\n",
    "  # In-study users (id >= 0) at given timestamp.\n",
    "  in_study_users_at_timestamp = df_bt[(df_bt[\"# timestamp\"] == timestamp)\n",
    "                                      & (df_bt[\"user_b\"] >= 0)][[\n",
    "                                          \"user_a\", \"user_b\", \"rssi\"\n",
    "                                      ]]\n",
    "\n",
    "  # Builds an undirected network of the in-study users.\n",
    "  for row in in_study_users_at_timestamp.itertuples():\n",
    "    user_a = row[1]\n",
    "    user_b = row[2]\n",
    "    rssi = row[3]\n",
    "    G.add_edge(user_a, user_b, weight=rssi)\n",
    "\n",
    "  # For clarity, we consier each connected component separately.  \n",
    "  connected_components = list(nx.connected_component_subgraphs(G))\n",
    "  fig, axs = plt.subplots(1, len(connected_components), figsize=(60, 3))\n",
    "  \n",
    "  # Plots the connected components of the network.\n",
    "  fig.suptitle(\"network components at timestamp={}\".format(timestamp))\n",
    "  [\n",
    "      nx.draw(\n",
    "          connected_component,\n",
    "          # Positions of nodes are calculatued using spring layout.\n",
    "          pos=nx.spring_layout(connected_component, scale=0.2),\n",
    "          ax=axs[i],\n",
    "          # Width of the edges is based on higher RSSI = stronger edge.\n",
    "          width=[(100 + connected_component[u][v][\"weight\"]) / 10.0\n",
    "                 for u, v in connected_component.edges()],\n",
    "          node_size=500,\n",
    "          node_color=\"black\",\n",
    "          with_labels=True,\n",
    "          font_size=10,\n",
    "          font_color=\"white\")\n",
    "      for i, connected_component in enumerate(connected_components)\n",
    "  ]\n",
    "\n",
    "\n",
    "VisualizeBluetoothNetwork(df_bt, 0)\n",
    "VisualizeBluetoothNetwork(df_bt, 300)\n",
    "VisualizeBluetoothNetwork(df_bt, 600)"
   ]
  },
  {
   "cell_type": "code",
   "execution_count": 6,
   "metadata": {
    "colab": {
     "base_uri": "https://localhost:8080/",
     "height": 747
    },
    "colab_type": "code",
    "id": "3gfmnxf5GCCa",
    "outputId": "e620b22f-f5c1-44a5-f567-ef618c3fb4ba"
   },
   "outputs": [
    {
     "data": {
      "image/png": "[encoded data removed]",
      "text/plain": [
       "<Figure size 288x288 with 1 Axes>"
      ]
     },
     "metadata": {},
     "output_type": "display_data"
    },
    {
     "data": {
      "image/png": "[encoded data removed]",
      "text/plain": [
       "<Figure size 288x288 with 1 Axes>"
      ]
     },
     "metadata": {},
     "output_type": "display_data"
    }
   ],
   "source": [
    "def VisualizeTextMessages(df_sms, df_genders):\n",
    "  \"\"\"Plots the SMS communication by gender of senders and recipients.\"\"\"\n",
    "\n",
    "  # Creates SMS network including gender of the senders.\n",
    "  df_sms_with_gender_sender = pd.merge(\n",
    "      df_sms, df_genders, left_on=\"sender\", right_on=\"# user\").rename(\n",
    "          index=str, columns={\n",
    "              \"female\": \"female_sender\"\n",
    "          }).drop(\n",
    "              \"# user\", axis=1)\n",
    "\n",
    "  # Creates SMS network including gender of the recipients.\n",
    "  df_sms_with_gender = pd.merge(\n",
    "      df_sms_with_gender_sender,\n",
    "      df_genders,\n",
    "      left_on=\"recipient\",\n",
    "      right_on=\"# user\").rename(\n",
    "          index=str, columns={\n",
    "              \"female\": \"female_recipient\"\n",
    "          }).drop(\n",
    "              \"# user\", axis=1)\n",
    "\n",
    "  # Computes total communication (all messages) and number of unique pairs based\n",
    "  # on sender and recipient gender.\n",
    "  totals = np.zeros((2, 2))\n",
    "  unique_pairs = np.zeros((2, 2))\n",
    "  for female_sender in [0, 1]:\n",
    "    for female_recipient in [0, 1]:\n",
    "      totals[female_sender, female_recipient] = df_sms_with_gender[\n",
    "          (df_sms_with_gender[\"female_sender\"] == female_sender)\n",
    "          &\n",
    "          (df_sms_with_gender[\"female_recipient\"] == female_recipient)].shape[0]\n",
    "      unique_pairs[female_sender, female_recipient] = df_sms_with_gender[\n",
    "          (df_sms_with_gender[\"female_sender\"] == female_sender)\n",
    "          & (df_sms_with_gender[\"female_recipient\"] == female_recipient)][[\n",
    "              \"sender\", \"recipient\"\n",
    "          ]].drop_duplicates().shape[0]\n",
    "\n",
    "  # Plots the breakdowns.\n",
    "  plt.matshow(totals, cmap=plt.cm.gray)\n",
    "  plt.grid(False)\n",
    "  plt.xlabel(\"sender\")\n",
    "  plt.ylabel(\"recipient\")\n",
    "  plt.xticks([0, 1], [\"male\", \"female\"])\n",
    "  plt.yticks([0, 1], [\"male\", \"female\"])\n",
    "  [\n",
    "      plt.text(\n",
    "          sender,\n",
    "          recipient,\n",
    "          \"n={}\".format(int(totals[sender][recipient])),\n",
    "          color=\"red\")\n",
    "      for sender, recipient in itertools.product([0, 1], [0, 1])\n",
    "  ]\n",
    "  plt.title(\"Total SMS communication\")\n",
    "\n",
    "  plt.matshow(unique_pairs, cmap=plt.cm.gray)\n",
    "  plt.grid(False)\n",
    "  plt.xlabel(\"sender\")\n",
    "  plt.ylabel(\"recipient\")\n",
    "  plt.xticks([0, 1], [\"male\", \"female\"])\n",
    "  plt.yticks([0, 1], [\"male\", \"female\"])\n",
    "  [\n",
    "      plt.text(\n",
    "          sender,\n",
    "          recipient,\n",
    "          \"n={}\".format(int(unique_pairs[sender][recipient])),\n",
    "          color=\"red\")\n",
    "      for sender, recipient in itertools.product([0, 1], [0, 1])\n",
    "  ]\n",
    "  plt.title(\"Unique SMS pairs\")\n",
    "\n",
    "\n",
    "VisualizeTextMessages(df_sms, df_genders)"
   ]
  },
  {
   "cell_type": "code",
   "execution_count": null,
   "metadata": {
    "collapsed": true
   },
   "outputs": [],
   "source": []
  }
 ],
 "metadata": {
  "colab": {
   "collapsed_sections": [],
   "name": "Copenhagen Networks Study Notebook.ipynb",
   "provenance": [],
   "version": "0.3.2"
  },
  "kernelspec": {
   "display_name": "Python 3",
   "language": "python",
   "name": "python3"
  },
  "language_info": {
   "codemirror_mode": {
    "name": "ipython",
    "version": 3
   },
   "file_extension": ".py",
   "mimetype": "text/x-python",
   "name": "python",
   "nbconvert_exporter": "python",
   "pygments_lexer": "ipython3",
   "version": "3.7.4"
  }
 },
 "nbformat": 4,
 "nbformat_minor": 1
}
